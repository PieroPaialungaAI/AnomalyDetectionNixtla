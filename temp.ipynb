{
 "cells": [
  {
   "cell_type": "markdown",
   "metadata": {},
   "source": [
    "# Anomaly Detection Performance Evaluation\n",
    "\n",
    "Ok so let's say you have a time series, and an anomaly detection algoritm that you can use to detect anomalies. If you have a labeled dataset, the performance of your anomaly detection algorithm can be easily measured using metrics like precision, recall, or F1-score. But what if it’s not labeled?"
   ]
  },
  {
   "cell_type": "markdown",
   "metadata": {},
   "source": [
    "## Synthetic Anomalies Detection\n",
    "A way to assess the performance of your method is to manually inject **synthetic anomalies** in your time series., as shown in the image below:"
   ]
  },
  {
   "cell_type": "markdown",
   "metadata": {},
   "source": [
    "![Anomaly Example](notebook_images/anomaly_injection.png)"
   ]
  },
  {
   "cell_type": "markdown",
   "metadata": {},
   "source": [
    "In this case, the anomaly is a localized **spike** in the input time series. "
   ]
  },
  {
   "cell_type": "markdown",
   "metadata": {},
   "source": [
    "A successfull outcome of the anomaly detection algorithm is seen in the following image: the anomaly detection perfectly spots the point where the anomaly has been previously injected."
   ]
  },
  {
   "cell_type": "markdown",
   "metadata": {},
   "source": [
    "![Anomaly Example](notebook_images/anomaly_detection_output.png)"
   ]
  },
  {
   "cell_type": "markdown",
   "metadata": {},
   "source": [
    "Of course, an unsuccesfull outcome would be when the anomaly detector does not spot the previously injected anomaly. "
   ]
  },
  {
   "cell_type": "markdown",
   "metadata": {},
   "source": [
    "## Synthetic Anomalies Parameters\n",
    "\n",
    "These synthetic anomalies can be used to build a labeled dataset, as we now have full control over where the \"true\" anomalies occur. Nonetheless, multiple parameters can influence our anomaly detection:\n",
    "\n",
    "1. The **kind** of injected anomalies: what do our injected anomalies look like?\n",
    "2. The specific **anomaly detection algorithm** we are adopting.\n",
    "3. The **size** of our anomalies: how \"big\" do we assume our anomalies to be?\n",
    "4. The **location** of our anomalies in the time series.\n",
    "\n",
    "### Fixed parameters\n",
    "\n",
    "The first two parameters (**kind** and **anomaly detection algorithm**) are fixed in this blogpost.\n",
    "\n",
    "A reasonable assumption for the **\"kind\"** of anomaly is a localized **spike**. In our weather dataset, where the amplitude (y-axis) represents temperature in Kelvin and the x-axis represents time in hours, the **spike** corresponds to a temperature that is significantly higher than average.\n",
    "\n",
    "The **anomaly detection algorithm** that we will be testing is the ```TimeGPT-1``` model, developed by the [Nixtla](https://www.nixtla.io/) team. The idea is to use the **transformer** algorithm and conformal probabilities to get accurate predictions and uncertainty boundaries. You can read more about it in the original [paper](https://arxiv.org/abs/2310.03589), while another application of anomaly detection throught TimeGPT-1 can be found in this [blogpost](https://www.nixtla.io/blog/anomaly-detection-in-time-series-with-timegpt-and-python).\n"
   ]
  },
  {
   "cell_type": "markdown",
   "metadata": {},
   "source": [
    "### Non Fixed Parameters/Variables\n",
    "By varying the last two parameters (**size** and **location**), we calibrate the evaluation scenario to explore the model's robustness. This allows us to assess its performance across a range of realistic anomaly cases. For example, an image showing injected anomalies at varying sizes and locations can be seen in the image below:\n",
    "\n",
    "\n",
    "![table_first](notebook_images/table_first.png)\n",
    "\n",
    "\n",
    "Why is this important? If you think about it, when the anomaly size is huge, a whatever anomaly detection model (even a very simple one) would be able to easily spot it. Nonetheless, when the anomaly size is almost zero, even a very powerful anomaly detection model would struggle to detect it, as shown in the image showing anomalous signals with different injected anomalies (shown in red).\n",
    "\n",
    "\n",
    "![table_first](notebook_images/table_second.png)\n"
   ]
  },
  {
   "cell_type": "markdown",
   "metadata": {},
   "source": [
    "As we can see, it is visually easy to spot anomalies at size = 0.1, but it is much harder to spot them at size = 0.05. "
   ]
  },
  {
   "cell_type": "markdown",
   "metadata": {},
   "source": [
    "## Anomaly Detection Performance Evaluation"
   ]
  },
  {
   "cell_type": "markdown",
   "metadata": {},
   "source": [
    "The question we want to ask ourself is the following:\n",
    "***\"What is the smallest anomaly that we can detect through our algorithm?\"***\n",
    "\n",
    "In order to understand how the location and size influences the performance of TimeGPT's anomaly detection, we can run the following approach:\n",
    "1. We fix the **size** of the anomaly (e.g. size = 0.1 $\\times$ the average of the signal). \n",
    "2. We apply the anomaly across multiple locations of the signal, as shown in the image below\n",
    "![Anomaly Example](notebook_images/anomaly_fixed_threshold.png)\n"
   ]
  },
  {
   "cell_type": "markdown",
   "metadata": {},
   "source": [
    "3. For every anomalous signal (across multiple locations), we run the anomaly detection algorithm and see if the anomaly in the injected location has been detected or not.\n",
    "4. We measure the performance across multiple locations, for example using: \n",
    "$$\\text{Accuracy} = \\frac{\\text{Number of detected anomalies}}{\\text{Number of anomalies}}$$\n",
    "5. If the accuracy is satisfactory, we decrease the the **size** of the anomaly, and repeat the loop from step 2, otherwise, we have found our smallest detectable anomaly size. \n",
    "\n",
    "A visual representation of this workflow can be seen in the following flowchart.\n",
    "\n",
    "![Flowchart](notebook_images/workflow.png)"
   ]
  },
  {
   "cell_type": "markdown",
   "metadata": {},
   "source": [
    "## Nixtla Anomaly Detection's Performance Evaluation"
   ]
  },
  {
   "cell_type": "markdown",
   "metadata": {},
   "source": [
    "We are going to run the tests described above on a real world dataset. The dataset and all the code that you need to run this example can be found in this [GitHub folder](https://github.com/PieroPaialungaAI/AnomalyDetectionNixtla), which you can clone using:\n",
    "\n",
    "```bash\n",
    "git clone https://github.com/PieroPaialungaAI/AnomalyDetectionNixtla.git\n",
    "```\n",
    "\n"
   ]
  },
  {
   "cell_type": "markdown",
   "metadata": {},
   "source": [
    "### Raw Data \n",
    "The time series that we will be using come from a Kaggle Open Source Dataset which can be found [here](https://www.kaggle.com/datasets/selfishgene/historical-hourly-weather-data). Note that you don't need to download anything, because the dataset can already be found in the ```RawData``` folder. \n",
    "\n",
    "In this dataset, the x axis is the hourly recorded time, and the y axis is the temperature, measured in K. The dataset offers multiple time series as columns (i.e. a column per city). The loader for this dataset can be found in the  ```data.py``` script. For example, the last entries for the \"Denver\" time series look like this:"
   ]
  },
  {
   "cell_type": "code",
   "execution_count": 1,
   "metadata": {},
   "outputs": [
    {
     "data": {
      "text/html": [
       "<div>\n",
       "<style scoped>\n",
       "    .dataframe tbody tr th:only-of-type {\n",
       "        vertical-align: middle;\n",
       "    }\n",
       "\n",
       "    .dataframe tbody tr th {\n",
       "        vertical-align: top;\n",
       "    }\n",
       "\n",
       "    .dataframe thead th {\n",
       "        text-align: right;\n",
       "    }\n",
       "</style>\n",
       "<table border=\"1\" class=\"dataframe\">\n",
       "  <thead>\n",
       "    <tr style=\"text-align: right;\">\n",
       "      <th></th>\n",
       "      <th>Denver</th>\n",
       "      <th>datetime</th>\n",
       "    </tr>\n",
       "  </thead>\n",
       "  <tbody>\n",
       "    <tr>\n",
       "      <th>45248</th>\n",
       "      <td>289.56</td>\n",
       "      <td>2017-11-29 20:00:00</td>\n",
       "    </tr>\n",
       "    <tr>\n",
       "      <th>45249</th>\n",
       "      <td>290.70</td>\n",
       "      <td>2017-11-29 21:00:00</td>\n",
       "    </tr>\n",
       "    <tr>\n",
       "      <th>45250</th>\n",
       "      <td>289.71</td>\n",
       "      <td>2017-11-29 22:00:00</td>\n",
       "    </tr>\n",
       "    <tr>\n",
       "      <th>45251</th>\n",
       "      <td>289.17</td>\n",
       "      <td>2017-11-29 23:00:00</td>\n",
       "    </tr>\n",
       "    <tr>\n",
       "      <th>45252</th>\n",
       "      <td>285.18</td>\n",
       "      <td>2017-11-30 00:00:00</td>\n",
       "    </tr>\n",
       "  </tbody>\n",
       "</table>\n",
       "</div>"
      ],
      "text/plain": [
       "       Denver            datetime\n",
       "45248  289.56 2017-11-29 20:00:00\n",
       "45249  290.70 2017-11-29 21:00:00\n",
       "45250  289.71 2017-11-29 22:00:00\n",
       "45251  289.17 2017-11-29 23:00:00\n",
       "45252  285.18 2017-11-30 00:00:00"
      ]
     },
     "execution_count": 1,
     "metadata": {},
     "output_type": "execute_result"
    }
   ],
   "source": [
    "from data import *\n",
    "data = Data(datetime_column='datetime')\n",
    "data.raw_data[['Denver', 'datetime']].tail()"
   ]
  },
  {
   "cell_type": "markdown",
   "metadata": {},
   "source": [
    "### Preprocessing Steps\n",
    "Multiple preprocessing steps are now applied: \n",
    "1. We only deal with one time series, so we can pick the city. The default city is ```Phoenix``` (for no good reason, feel free to pick whatever city you like)\n",
    "2. The time series is pretty long, we can isolate a portion of the time series to reduce time and power complexity. The default portion is between ```index = 41253``` and  ```index = 45253```. Again, feel free to change this however you'd like. Keep in mind that the full time series has length ```l = 45253``` \n",
    "3. In order to run our ```TimeGPT-1``` model on ```Nixtla```, we rename the datetime columns as ```ds``` and the timeseries amplitude as ```y```."
   ]
  },
  {
   "cell_type": "code",
   "execution_count": 2,
   "metadata": {},
   "outputs": [
    {
     "data": {
      "text/html": [
       "<div>\n",
       "<style scoped>\n",
       "    .dataframe tbody tr th:only-of-type {\n",
       "        vertical-align: middle;\n",
       "    }\n",
       "\n",
       "    .dataframe tbody tr th {\n",
       "        vertical-align: top;\n",
       "    }\n",
       "\n",
       "    .dataframe thead th {\n",
       "        text-align: right;\n",
       "    }\n",
       "</style>\n",
       "<table border=\"1\" class=\"dataframe\">\n",
       "  <thead>\n",
       "    <tr style=\"text-align: right;\">\n",
       "      <th></th>\n",
       "      <th>y</th>\n",
       "      <th>ds</th>\n",
       "      <th>unique_id</th>\n",
       "    </tr>\n",
       "  </thead>\n",
       "  <tbody>\n",
       "    <tr>\n",
       "      <th>0</th>\n",
       "      <td>297.96</td>\n",
       "      <td>2017-06-16 09:00:00</td>\n",
       "      <td>0</td>\n",
       "    </tr>\n",
       "    <tr>\n",
       "      <th>1</th>\n",
       "      <td>297.15</td>\n",
       "      <td>2017-06-16 10:00:00</td>\n",
       "      <td>0</td>\n",
       "    </tr>\n",
       "    <tr>\n",
       "      <th>2</th>\n",
       "      <td>295.80</td>\n",
       "      <td>2017-06-16 11:00:00</td>\n",
       "      <td>0</td>\n",
       "    </tr>\n",
       "    <tr>\n",
       "      <th>3</th>\n",
       "      <td>295.00</td>\n",
       "      <td>2017-06-16 12:00:00</td>\n",
       "      <td>0</td>\n",
       "    </tr>\n",
       "    <tr>\n",
       "      <th>4</th>\n",
       "      <td>294.33</td>\n",
       "      <td>2017-06-16 13:00:00</td>\n",
       "      <td>0</td>\n",
       "    </tr>\n",
       "  </tbody>\n",
       "</table>\n",
       "</div>"
      ],
      "text/plain": [
       "        y                  ds  unique_id\n",
       "0  297.96 2017-06-16 09:00:00          0\n",
       "1  297.15 2017-06-16 10:00:00          0\n",
       "2  295.80 2017-06-16 11:00:00          0\n",
       "3  295.00 2017-06-16 12:00:00          0\n",
       "4  294.33 2017-06-16 13:00:00          0"
      ]
     },
     "execution_count": 2,
     "metadata": {},
     "output_type": "execute_result"
    }
   ],
   "source": [
    "data.isolate_city()\n",
    "data.isolate_portion()\n",
    "preprocessed_data = data.prepare_for_nixtla()\n",
    "preprocessed_data.head()"
   ]
  },
  {
   "cell_type": "code",
   "execution_count": 11,
   "metadata": {},
   "outputs": [],
   "source": [
    "from anomaly_calibrator import *\n",
    "anomaly_calibrator = AnomalyCalibrator(processed_data = preprocessed_data)\n",
    "anomaly_calibrator.build_possible_locations(num_signals = 20)\n",
    "anomaly_calibrator.build_anomalous_dataset()\n",
    "anomaly_calibrator.load_nixtla_client()"
   ]
  },
  {
   "cell_type": "code",
   "execution_count": 12,
   "metadata": {},
   "outputs": [
    {
     "data": {
      "text/plain": [
       "[<matplotlib.lines.Line2D at 0x13530fca0>]"
      ]
     },
     "execution_count": 12,
     "metadata": {},
     "output_type": "execute_result"
    },
    {
     "data": {
      "image/png": "[encoded data removed]",
      "text/plain": [
       "<Figure size 640x480 with 1 Axes>"
      ]
     },
     "metadata": {},
     "output_type": "display_data"
    }
   ],
   "source": [
    "plt.plot(anomaly_calibrator.anomalous_signal)\n",
    "plt.plot(anomaly_calibrator.input_signal)"
   ]
  },
  {
   "cell_type": "code",
   "execution_count": null,
   "metadata": {},
   "outputs": [],
   "source": []
  }
 ],
 "metadata": {
  "kernelspec": {
   "display_name": "base",
   "language": "python",
   "name": "python3"
  },
  "language_info": {
   "codemirror_mode": {
    "name": "ipython",
    "version": 3
   },
   "file_extension": ".py",
   "mimetype": "text/x-python",
   "name": "python",
   "nbconvert_exporter": "python",
   "pygments_lexer": "ipython3",
   "version": "3.10.6"
  }
 },
 "nbformat": 4,
 "nbformat_minor": 2
}
